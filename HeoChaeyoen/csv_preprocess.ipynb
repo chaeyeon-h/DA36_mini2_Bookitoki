{
 "cells": [
  {
   "metadata": {
    "ExecuteTime": {
     "end_time": "2024-11-08T06:43:16.401966Z",
     "start_time": "2024-11-08T06:43:16.397517Z"
    }
   },
   "cell_type": "code",
   "source": "import pandas as pd",
   "id": "9e47c2db2d59049",
   "outputs": [],
   "execution_count": 9
  },
  {
   "metadata": {
    "ExecuteTime": {
     "end_time": "2024-11-08T06:43:16.423218Z",
     "start_time": "2024-11-08T06:43:16.412086Z"
    }
   },
   "cell_type": "code",
   "source": [
    "def categorize(categories):\n",
    "    if \"nonfiction\" in categories:\n",
    "        return \"nonfic\"\n",
    "    elif any(word in categories for word in [\"fiction\",\"fictitious\"]):\n",
    "        return \"fiction\"\n",
    "    elif any(word in categories for word in ['lovely',\"behavior\",\"entertain\",\"book\",\"read\",\"choco\",\"relation\",\"actor\",\"comic\",\"drama\",\"travel\",\"liter\",\"humor\",\"life\",\"cooking\", \"art\", \"poetry\",'philosophy',\"community\",\"character\",\"courtship\",\"geishas\",\"bildung\",\"christmas\",\"boy\"]):\n",
    "        return 'culture'\n",
    "    elif any(word in categories for word in [\"children\", \"child\",\"adolescence\",\"school\"]):\n",
    "        return \"child\"\n",
    "    elif any(word in categories for word in ['famil','aunts','cousin','fathers', 'mothers', 'parents', 'marriage', 'brothers', 'sisters', 'divorced', 'relationship','adult','abortion',\"sex\",\"married\",'orphan','wives']):\n",
    "        return \"family\"\n",
    "    elif any(word in categories for word in ['church', 'christian', 'religion','jerusalem','apologetics']):\n",
    "        return \"religion\"\n",
    "    elif any(word in categories for word in ['dragons', 'aliens', 'imaginary', 'planet', 'adventure','fantasy','spirit','wonder']):\n",
    "        return \"sf\"\n",
    "    elif any(word in categories for word in ['pets', 'dogs', 'animals','cats']):\n",
    "        return \"animals\"\n",
    "    elif any(word in categories for word in [\"history\", \"regions\", \"england\", \"california\", \"boston\", \"brooklyn\", \"africa\", \"chicago\", \"france\", \"american\",\"cornwall\", \"amsterdam\", \"cape cod\", \"capitalists\",\"britain\",\"indian\",\"middle west\",\"town\",\"soldier\",\"baltimore\",\"amerikan\",\"british\"]):\n",
    "        return \"history\"\n",
    "    elif any(word in categories for word in [\"science\", \"computers\", \"intelligence\", \"medical\", \"health\", \"medical\", \"engineers\", \"automotives\", \"management\",\"bio\",\"nature\",\"mental\",\"social\",\"psychology\",\"archit\",\"reference\",\"compulsive\",\"medica\",\"vet\",\"auto\",\"cancer\"]):\n",
    "        return \"sci&tech\"\n",
    "    elif any(word in categories for word in [\"mystery\", \"crime\", \"haunted\", \"horror\", \"murder\",\"burglar\",\"accidents\",\"death\",\"assassins\",'conspiracies']):\n",
    "        return \"mystery\"\n",
    "    elif any(word in categories for word in [\"econo\",\"business\",\"law\"]):\n",
    "        return \"e&b\"\n",
    "    elif any(word in categories for word in [\"self-help\",\"audio\",\"brewing\",\"kindness\",\"avarice\",'curious']):\n",
    "        return \"etc\""
   ],
   "id": "fd31d1dec5fc7682",
   "outputs": [],
   "execution_count": 10
  },
  {
   "metadata": {
    "ExecuteTime": {
     "end_time": "2024-11-08T06:43:16.444414Z",
     "start_time": "2024-11-08T06:43:16.440757Z"
    }
   },
   "cell_type": "code",
   "source": [
    "def make_ages(age):\n",
    "    if 10<=age<20:\n",
    "        return 10\n",
    "    elif 20<=age<30:\n",
    "        return 20\n",
    "    elif 30<=age<40:\n",
    "        return 30\n",
    "    elif 40<=age<50:\n",
    "        return 40\n",
    "    elif 50<=age<60:\n",
    "        return 50\n",
    "    elif 60<=age<70:\n",
    "        return 60\n",
    "    else:\n",
    "        return 70"
   ],
   "id": "552a06d8ecfa2a15",
   "outputs": [],
   "execution_count": 11
  },
  {
   "metadata": {
    "collapsed": true,
    "ExecuteTime": {
     "end_time": "2024-11-08T06:43:17.681687Z",
     "start_time": "2024-11-08T06:43:16.461763Z"
    }
   },
   "cell_type": "code",
   "source": [
    "book_df=pd.read_csv(\"book_review_data.csv\")\n",
    "book_df=book_df[['user_id',\"age\",\"rating\",\"book_title\",'book_author','year_of_publication','img_m','Summary','Category','country','Language']]\n",
    "book_df[['age',\"year_of_publication\"]]=book_df[['age',\"year_of_publication\"]].astype(int)\n",
    "\n",
    "counts = book_df['book_title'].value_counts()\n",
    "title = counts[counts > 30].index\n",
    "book_filter_df = book_df[book_df['book_title'].isin(title)]\n",
    "\n",
    "counts = book_filter_df[\"user_id\"].value_counts()\n",
    "user_id_ = counts[counts > 10].index\n",
    "book_filter_df = book_filter_df[book_filter_df['user_id'].isin(user_id_)]\n",
    "\n",
    "rating_zero = book_filter_df[book_filter_df['rating'] == 0].index\n",
    "book_filter_df.drop(rating_zero, axis=0, inplace=True)\n",
    "\n",
    "counts = book_filter_df[\"Category\"].value_counts()\n",
    "categories = counts[counts > 5].index\n",
    "idx = book_filter_df[book_filter_df['Category'] == '9'].index\n",
    "book_filter_df.drop(idx, axis=0, inplace=True)\n",
    "book_filter_df = book_filter_df[book_filter_df['Category'].isin(categories)]\n",
    "\n",
    "idx = book_filter_df[book_filter_df[\"Summary\"] == '9'].index\n",
    "book_filter_df.drop(idx, axis=0, inplace=True)\n",
    "\n",
    "book_filter_df[\"Category\"] = book_filter_df['Category'].str.lower()\n",
    "book_filter_df[\"book_title\"] = book_filter_df['book_title'].str.lower()\n",
    "book_filter_df[\"Summary\"] = book_filter_df[\"Summary\"].str.lower()\n",
    "book_filter_df[\"book_author\"] = book_filter_df[\"book_author\"].str.lower()\n",
    "book_filter_df[\"book_author\"] = book_filter_df[\"book_author\"].str.replace(\" \", \"\")\n",
    "book_filter_df[\"book_author\"] = book_filter_df[\"book_author\"].str.replace(\".\", \"\")\n",
    "\n",
    "book_filter_df.shape\n",
    "book_filter_df[\"L_Category\"] = book_filter_df[\"Category\"].apply(categorize)\n",
    "book_filter_df['ages'] = book_filter_df['age'].apply(make_ages)\n",
    "\n",
    "book_filter_df.to_csv(\"book_filter_data.csv\")"
   ],
   "id": "initial_id",
   "outputs": [],
   "execution_count": 12
  }
 ],
 "metadata": {
  "kernelspec": {
   "display_name": "Python 3",
   "language": "python",
   "name": "python3"
  },
  "language_info": {
   "codemirror_mode": {
    "name": "ipython",
    "version": 2
   },
   "file_extension": ".py",
   "mimetype": "text/x-python",
   "name": "python",
   "nbconvert_exporter": "python",
   "pygments_lexer": "ipython2",
   "version": "2.7.6"
  }
 },
 "nbformat": 4,
 "nbformat_minor": 5
}
