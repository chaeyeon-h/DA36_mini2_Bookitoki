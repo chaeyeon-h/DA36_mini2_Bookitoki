{
 "cells": [
  {
   "cell_type": "code",
   "id": "initial_id",
   "metadata": {
    "collapsed": true,
    "ExecuteTime": {
     "end_time": "2024-11-10T18:11:59.590289Z",
     "start_time": "2024-11-10T18:11:59.585105Z"
    }
   },
   "source": [
    "import pandas as pd\n",
    "import numpy as np\n",
    "import matplotlib.pyplot as plt\n",
    "import seaborn as sns"
   ],
   "outputs": [],
   "execution_count": 80
  },
  {
   "metadata": {},
   "cell_type": "markdown",
   "source": [
    "#### 데이터 전처리\n",
    "- kaggle dataset "
   ],
   "id": "7ebc78c0a259c775"
  },
  {
   "metadata": {
    "ExecuteTime": {
     "end_time": "2024-11-10T18:12:05.365936Z",
     "start_time": "2024-11-10T18:11:59.602924Z"
    }
   },
   "cell_type": "code",
   "source": "book_df=pd.read_csv('csv/book_review_data.csv')",
   "id": "c5b6e4a98a06dfbe",
   "outputs": [],
   "execution_count": 81
  },
  {
   "metadata": {
    "ExecuteTime": {
     "end_time": "2024-11-10T18:12:05.594622Z",
     "start_time": "2024-11-10T18:12:05.439960Z"
    }
   },
   "cell_type": "code",
   "source": [
    "# 1) 필요한 컬럼 도출\n",
    "# 2) 형변환 (float > int)\n",
    "\n",
    "book_df=book_df[['user_id',\"age\",\"rating\",\"book_title\",'book_author','year_of_publication','img_m','Summary','Category','country','Language']]\n",
    "book_df[['age',\"year_of_publication\"]]=book_df[['age',\"year_of_publication\"]].astype(int)"
   ],
   "id": "a91a7feaa0d36a4a",
   "outputs": [],
   "execution_count": 82
  },
  {
   "metadata": {
    "ExecuteTime": {
     "end_time": "2024-11-10T18:12:05.917504Z",
     "start_time": "2024-11-10T18:12:05.655309Z"
    }
   },
   "cell_type": "code",
   "source": [
    "# 최소 평가 개수 ( 평가가 30개보다 많은 책만 추출 )\n",
    "counts=book_df['book_title'].value_counts()\n",
    "title = counts[counts > 30].index\n",
    "book_filter_df=book_df[book_df['book_title'].isin(title)]\n"
   ],
   "id": "538437861c6b56cb",
   "outputs": [],
   "execution_count": 83
  },
  {
   "metadata": {
    "ExecuteTime": {
     "end_time": "2024-11-10T18:12:06.047188Z",
     "start_time": "2024-11-10T18:12:05.989920Z"
    }
   },
   "cell_type": "code",
   "source": [
    "# 최소 평가 개수 ( 평가가 20개보다 많은 사용자만 추출 )\n",
    "counts=book_filter_df[\"user_id\"].value_counts()\n",
    "user_id_=counts[counts>30].index\n",
    "book_filter_df = book_filter_df[book_filter_df['user_id'].isin(user_id_)]"
   ],
   "id": "394e64cd0b88a858",
   "outputs": [],
   "execution_count": 84
  },
  {
   "metadata": {
    "ExecuteTime": {
     "end_time": "2024-11-10T18:12:06.159161Z",
     "start_time": "2024-11-10T18:12:06.115374Z"
    }
   },
   "cell_type": "code",
   "source": [
    "# 무의미한 0점 평가 제거\n",
    "rating_zero=book_filter_df[book_filter_df['rating']==0].index\n",
    "book_filter_df.drop(rating_zero, axis=0, inplace=True)"
   ],
   "id": "8da03a2eae0c9e69",
   "outputs": [],
   "execution_count": 85
  },
  {
   "metadata": {
    "ExecuteTime": {
     "end_time": "2024-11-10T18:12:06.304189Z",
     "start_time": "2024-11-10T18:12:06.219111Z"
    }
   },
   "cell_type": "code",
   "source": [
    "# 한 카테고리안에 책이 5권 미만인 경우 제거\n",
    "counts=book_filter_df[\"Category\"].value_counts()\n",
    "categories = counts[counts > 5].index\n",
    "idx=book_filter_df[book_filter_df['Category']=='9'].index\n",
    "book_filter_df.drop(idx, axis=0, inplace=True)\n",
    "book_filter_df = book_filter_df[book_filter_df['Category'].isin(categories)]\n",
    "\n",
    "idx=book_filter_df[book_filter_df[\"Summary\"]=='9'].index\n",
    "book_filter_df.drop(idx,axis=0,inplace=True)\n",
    "\n",
    "\n",
    "book_filter_df[\"Category\"]=book_filter_df['Category'].str.lower()\n",
    "book_filter_df[\"book_title\"]=book_filter_df['book_title'].str.lower()\n",
    "book_filter_df[\"Summary\"]=book_filter_df[\"Summary\"].str.lower()\n",
    "book_filter_df[\"book_author\"]=book_filter_df[\"book_author\"].str.lower()\n",
    "book_filter_df[\"book_author\"]=book_filter_df[\"book_author\"].str.replace(\" \",\"\")\n",
    "book_filter_df[\"book_author\"]=book_filter_df[\"book_author\"].str.replace(\".\",\"\")"
   ],
   "id": "b779c5ab7eb237d7",
   "outputs": [],
   "execution_count": 86
  },
  {
   "metadata": {
    "ExecuteTime": {
     "end_time": "2024-11-10T18:12:06.405217Z",
     "start_time": "2024-11-10T18:12:06.385393Z"
    }
   },
   "cell_type": "code",
   "source": [
    "book_filter_df.shape\n",
    "len(book_filter_df['book_title'].unique())"
   ],
   "id": "2d6073259aeb1ef",
   "outputs": [
    {
     "data": {
      "text/plain": [
       "3374"
      ]
     },
     "execution_count": 87,
     "metadata": {},
     "output_type": "execute_result"
    }
   ],
   "execution_count": 87
  },
  {
   "metadata": {
    "ExecuteTime": {
     "end_time": "2024-11-10T18:12:06.728108Z",
     "start_time": "2024-11-10T18:12:06.484151Z"
    }
   },
   "cell_type": "code",
   "source": "book_filter_df.to_csv(\"book_filter_df.csv\")",
   "id": "eaddb0754844ca2",
   "outputs": [],
   "execution_count": 88
  },
  {
   "metadata": {},
   "cell_type": "markdown",
   "source": "#### category 대분류 만들기",
   "id": "26b7a18a8378b83c"
  },
  {
   "metadata": {
    "ExecuteTime": {
     "end_time": "2024-11-10T18:12:06.898607Z",
     "start_time": "2024-11-10T18:12:06.796574Z"
    }
   },
   "cell_type": "code",
   "source": [
    "def categorize(categories):\n",
    "    if \"nonfiction\" in categories:\n",
    "        return \"nonfic\"\n",
    "    elif any(word in categories for word in [\"fiction\",\"fictitious\"]):\n",
    "        return \"fiction\"\n",
    "    elif any(word in categories for word in ['lovely',\"behavior\",\"entertain\",\"book\",\"read\",\"choco\",\"relation\",\"actor\",\"comic\",\"drama\",\"travel\",\"liter\",\"humor\",\"life\",\"cooking\", \"art\", \"poetry\",'philosophy',\"community\",\"character\",\"courtship\",\"geishas\",\"bildung\",\"christmas\",\"boy\"]):\n",
    "        return 'culture'\n",
    "    elif any(word in categories for word in [\"children\", \"child\",\"adolescence\",\"school\"]):\n",
    "        return \"child\"\n",
    "    elif any(word in categories for word in ['famil','aunts','cousin','fathers', 'mothers', 'parents', 'marriage', 'brothers', 'sisters', 'divorced', 'relationship','adult','abortion',\"sex\",\"married\",'orphan','wives']):\n",
    "        return \"family\"\n",
    "    elif any(word in categories for word in ['church', 'christian', 'religion','jerusalem','apologetics']):\n",
    "        return \"religion\"\n",
    "    elif any(word in categories for word in ['dragons', 'aliens', 'imaginary', 'planet', 'adventure','fantasy','spirit','wonder']):\n",
    "        return \"sf\"\n",
    "    elif any(word in categories for word in ['pets', 'dogs', 'animals','cats']):\n",
    "        return \"animals\"\n",
    "    elif any(word in categories for word in [\"history\", \"regions\", \"england\", \"california\", \"boston\", \"brooklyn\", \"africa\", \"chicago\", \"france\", \"american\",\"cornwall\", \"amsterdam\", \"cape cod\", \"capitalists\",\"britain\",\"indian\",\"middle west\",\"town\",\"soldier\",\"baltimore\",\"amerikan\",\"british\"]):\n",
    "        return \"history\"\n",
    "    elif any(word in categories for word in [\"science\", \"computers\", \"intelligence\", \"medical\", \"health\", \"medical\", \"engineers\", \"automotives\", \"management\",\"bio\",\"nature\",\"mental\",\"social\",\"psychology\",\"archit\",\"reference\",\"compulsive\",\"medica\",\"vet\",\"auto\",\"cancer\"]):\n",
    "        return \"sci&tech\"\n",
    "    elif any(word in categories for word in [\"mystery\", \"crime\", \"haunted\", \"horror\", \"murder\",\"burglar\",\"accidents\",\"death\",\"assassins\",'conspiracies']):\n",
    "        return \"mystery\"\n",
    "    elif any(word in categories for word in [\"econo\",\"business\",\"law\"]):\n",
    "        return \"e&b\"\n",
    "    elif any(word in categories for word in [\"self-help\",\"audio\",\"brewing\",\"kindness\",\"avarice\",'curious']):\n",
    "        return \"etc\"\n",
    "\n",
    "book_filter_df[\"L_Category\"]=book_filter_df[\"Category\"].apply(categorize)"
   ],
   "id": "d4fbecb5c526e2cd",
   "outputs": [],
   "execution_count": 89
  },
  {
   "metadata": {
    "ExecuteTime": {
     "end_time": "2024-11-10T18:12:06.977257Z",
     "start_time": "2024-11-10T18:12:06.965050Z"
    }
   },
   "cell_type": "code",
   "source": "book_filter_df.head()",
   "id": "bd2f217549acfb08",
   "outputs": [
    {
     "data": {
      "text/plain": [
       "    user_id  age  rating              book_title book_author  \\\n",
       "31    11676   34       9  the kitchen god's wife      amytan   \n",
       "32    29526   26       9  the kitchen god's wife      amytan   \n",
       "34    46398   37       9  the kitchen god's wife      amytan   \n",
       "42   148712   34      10  the kitchen god's wife      amytan   \n",
       "54   230522   52       7  the kitchen god's wife      amytan   \n",
       "\n",
       "    year_of_publication                                              img_m  \\\n",
       "31                 1991  http://images.amazon.com/images/P/0399135782.0...   \n",
       "32                 1991  http://images.amazon.com/images/P/0399135782.0...   \n",
       "34                 1991  http://images.amazon.com/images/P/0399135782.0...   \n",
       "42                 1991  http://images.amazon.com/images/P/0399135782.0...   \n",
       "54                 1991  http://images.amazon.com/images/P/0399135782.0...   \n",
       "\n",
       "                                              Summary     Category country  \\\n",
       "31  a chinese immigrant who is convinced she is dy...  ['fiction']     NaN   \n",
       "32  a chinese immigrant who is convinced she is dy...  ['fiction']     usa   \n",
       "34  a chinese immigrant who is convinced she is dy...  ['fiction']     usa   \n",
       "42  a chinese immigrant who is convinced she is dy...  ['fiction']     usa   \n",
       "54  a chinese immigrant who is convinced she is dy...  ['fiction']     usa   \n",
       "\n",
       "   Language L_Category  \n",
       "31       en    fiction  \n",
       "32       en    fiction  \n",
       "34       en    fiction  \n",
       "42       en    fiction  \n",
       "54       en    fiction  "
      ],
      "text/html": [
       "<div>\n",
       "<style scoped>\n",
       "    .dataframe tbody tr th:only-of-type {\n",
       "        vertical-align: middle;\n",
       "    }\n",
       "\n",
       "    .dataframe tbody tr th {\n",
       "        vertical-align: top;\n",
       "    }\n",
       "\n",
       "    .dataframe thead th {\n",
       "        text-align: right;\n",
       "    }\n",
       "</style>\n",
       "<table border=\"1\" class=\"dataframe\">\n",
       "  <thead>\n",
       "    <tr style=\"text-align: right;\">\n",
       "      <th></th>\n",
       "      <th>user_id</th>\n",
       "      <th>age</th>\n",
       "      <th>rating</th>\n",
       "      <th>book_title</th>\n",
       "      <th>book_author</th>\n",
       "      <th>year_of_publication</th>\n",
       "      <th>img_m</th>\n",
       "      <th>Summary</th>\n",
       "      <th>Category</th>\n",
       "      <th>country</th>\n",
       "      <th>Language</th>\n",
       "      <th>L_Category</th>\n",
       "    </tr>\n",
       "  </thead>\n",
       "  <tbody>\n",
       "    <tr>\n",
       "      <th>31</th>\n",
       "      <td>11676</td>\n",
       "      <td>34</td>\n",
       "      <td>9</td>\n",
       "      <td>the kitchen god's wife</td>\n",
       "      <td>amytan</td>\n",
       "      <td>1991</td>\n",
       "      <td>http://images.amazon.com/images/P/0399135782.0...</td>\n",
       "      <td>a chinese immigrant who is convinced she is dy...</td>\n",
       "      <td>['fiction']</td>\n",
       "      <td>NaN</td>\n",
       "      <td>en</td>\n",
       "      <td>fiction</td>\n",
       "    </tr>\n",
       "    <tr>\n",
       "      <th>32</th>\n",
       "      <td>29526</td>\n",
       "      <td>26</td>\n",
       "      <td>9</td>\n",
       "      <td>the kitchen god's wife</td>\n",
       "      <td>amytan</td>\n",
       "      <td>1991</td>\n",
       "      <td>http://images.amazon.com/images/P/0399135782.0...</td>\n",
       "      <td>a chinese immigrant who is convinced she is dy...</td>\n",
       "      <td>['fiction']</td>\n",
       "      <td>usa</td>\n",
       "      <td>en</td>\n",
       "      <td>fiction</td>\n",
       "    </tr>\n",
       "    <tr>\n",
       "      <th>34</th>\n",
       "      <td>46398</td>\n",
       "      <td>37</td>\n",
       "      <td>9</td>\n",
       "      <td>the kitchen god's wife</td>\n",
       "      <td>amytan</td>\n",
       "      <td>1991</td>\n",
       "      <td>http://images.amazon.com/images/P/0399135782.0...</td>\n",
       "      <td>a chinese immigrant who is convinced she is dy...</td>\n",
       "      <td>['fiction']</td>\n",
       "      <td>usa</td>\n",
       "      <td>en</td>\n",
       "      <td>fiction</td>\n",
       "    </tr>\n",
       "    <tr>\n",
       "      <th>42</th>\n",
       "      <td>148712</td>\n",
       "      <td>34</td>\n",
       "      <td>10</td>\n",
       "      <td>the kitchen god's wife</td>\n",
       "      <td>amytan</td>\n",
       "      <td>1991</td>\n",
       "      <td>http://images.amazon.com/images/P/0399135782.0...</td>\n",
       "      <td>a chinese immigrant who is convinced she is dy...</td>\n",
       "      <td>['fiction']</td>\n",
       "      <td>usa</td>\n",
       "      <td>en</td>\n",
       "      <td>fiction</td>\n",
       "    </tr>\n",
       "    <tr>\n",
       "      <th>54</th>\n",
       "      <td>230522</td>\n",
       "      <td>52</td>\n",
       "      <td>7</td>\n",
       "      <td>the kitchen god's wife</td>\n",
       "      <td>amytan</td>\n",
       "      <td>1991</td>\n",
       "      <td>http://images.amazon.com/images/P/0399135782.0...</td>\n",
       "      <td>a chinese immigrant who is convinced she is dy...</td>\n",
       "      <td>['fiction']</td>\n",
       "      <td>usa</td>\n",
       "      <td>en</td>\n",
       "      <td>fiction</td>\n",
       "    </tr>\n",
       "  </tbody>\n",
       "</table>\n",
       "</div>"
      ]
     },
     "execution_count": 90,
     "metadata": {},
     "output_type": "execute_result"
    }
   ],
   "execution_count": 90
  },
  {
   "metadata": {},
   "cell_type": "markdown",
   "source": "#### user_book_rating dataframe",
   "id": "9e240d4c93668c34"
  },
  {
   "metadata": {
    "ExecuteTime": {
     "end_time": "2024-11-10T18:12:07.215474Z",
     "start_time": "2024-11-10T18:12:07.084916Z"
    }
   },
   "cell_type": "code",
   "source": [
    "user_book_df=book_filter_df.pivot_table(index='user_id',columns='book_title',values='rating',fill_value=0)\n",
    "book_user_df=user_book_df.T\n",
    "user_book_df.shape # user간 유사도 구할거 아니니까"
   ],
   "id": "27a4ecd611c9f240",
   "outputs": [
    {
     "data": {
      "text/plain": [
       "(1924, 3374)"
      ]
     },
     "execution_count": 91,
     "metadata": {},
     "output_type": "execute_result"
    }
   ],
   "execution_count": 91
  },
  {
   "metadata": {
    "ExecuteTime": {
     "end_time": "2024-11-10T18:12:07.931543Z",
     "start_time": "2024-11-10T18:12:07.252178Z"
    }
   },
   "cell_type": "code",
   "source": [
    "from sklearn.metrics.pairwise import cosine_similarity\n",
    "book_similarity = cosine_similarity(book_user_df, book_user_df)\n",
    "\n",
    "book_similarity_df = pd.DataFrame(book_similarity, index=user_book_df.columns, columns=user_book_df.columns)"
   ],
   "id": "eddbd32fc67a9cf3",
   "outputs": [],
   "execution_count": 92
  },
  {
   "metadata": {
    "ExecuteTime": {
     "end_time": "2024-11-10T18:12:14.736648Z",
     "start_time": "2024-11-10T18:12:07.936552Z"
    }
   },
   "cell_type": "code",
   "source": "book_similarity_df.to_csv(\"book_similarity_df.csv\")",
   "id": "7d497cb8c5438493",
   "outputs": [],
   "execution_count": 93
  },
  {
   "metadata": {
    "ExecuteTime": {
     "end_time": "2024-11-10T18:12:17.646012Z",
     "start_time": "2024-11-10T18:12:14.798444Z"
    }
   },
   "cell_type": "code",
   "source": "user_book_df.to_csv(\"user_book_df.csv\")",
   "id": "2624b05408bb070d",
   "outputs": [],
   "execution_count": 94
  },
  {
   "metadata": {
    "ExecuteTime": {
     "end_time": "2024-11-10T18:12:17.752082Z",
     "start_time": "2024-11-10T18:12:17.730209Z"
    }
   },
   "cell_type": "code",
   "source": "user_book_df.iloc[55].sort_values(ascending=False)[:10]",
   "id": "ad73a8291a2fff5e",
   "outputs": [
    {
     "data": {
      "text/plain": [
       "book_title\n",
       "cruel & unusual (kay scarpetta mysteries (paperback))     9.0\n",
       "desperation                                               9.0\n",
       "southern cross                                            9.0\n",
       "all that remains (kay scarpetta mysteries (paperback))    9.0\n",
       "body of evidence (kay scarpetta mysteries (paperback))    7.0\n",
       "the cat who ate danish modern (cat who... (paperback))    7.0\n",
       "body of evidence                                          7.0\n",
       "obsession                                                 6.0\n",
       "taken                                                     0.0\n",
       "sweet liar                                                0.0\n",
       "Name: 8936, dtype: float64"
      ]
     },
     "execution_count": 95,
     "metadata": {},
     "output_type": "execute_result"
    }
   ],
   "execution_count": 95
  },
  {
   "metadata": {},
   "cell_type": "markdown",
   "source": "#### age_title_count dataframe",
   "id": "fc30f1dca0d21f9e"
  },
  {
   "metadata": {
    "ExecuteTime": {
     "end_time": "2024-11-10T18:12:17.882027Z",
     "start_time": "2024-11-10T18:12:17.874064Z"
    }
   },
   "cell_type": "code",
   "source": "book_filter_df[\"age\"].value_counts()",
   "id": "b19b1497e1710b5e",
   "outputs": [
    {
     "data": {
      "text/plain": [
       "age\n",
       "34    11397\n",
       "33     1468\n",
       "29     1244\n",
       "28     1211\n",
       "32     1156\n",
       "30     1110\n",
       "26     1075\n",
       "31     1036\n",
       "36     1036\n",
       "47      992\n",
       "27      936\n",
       "43      909\n",
       "37      892\n",
       "35      874\n",
       "25      855\n",
       "38      791\n",
       "46      784\n",
       "39      748\n",
       "44      729\n",
       "24      679\n",
       "49      649\n",
       "51      600\n",
       "23      590\n",
       "52      583\n",
       "40      564\n",
       "41      523\n",
       "42      504\n",
       "54      442\n",
       "18      438\n",
       "22      403\n",
       "45      351\n",
       "48      321\n",
       "50      279\n",
       "57      267\n",
       "53      240\n",
       "21      192\n",
       "55      190\n",
       "20      166\n",
       "60      162\n",
       "17      145\n",
       "56      135\n",
       "19      124\n",
       "61      114\n",
       "65      108\n",
       "58      103\n",
       "59       97\n",
       "14       95\n",
       "63       89\n",
       "67       81\n",
       "62       56\n",
       "69       48\n",
       "9        23\n",
       "79       19\n",
       "16       18\n",
       "15       18\n",
       "68       12\n",
       "71        9\n",
       "66        9\n",
       "Name: count, dtype: int64"
      ]
     },
     "execution_count": 96,
     "metadata": {},
     "output_type": "execute_result"
    }
   ],
   "execution_count": 96
  },
  {
   "metadata": {
    "ExecuteTime": {
     "end_time": "2024-11-10T18:12:17.975057Z",
     "start_time": "2024-11-10T18:12:17.968866Z"
    }
   },
   "cell_type": "code",
   "source": [
    "def make_ages(age):\n",
    "    if 10<=age<20:\n",
    "        return 10\n",
    "    elif 20<=age<30:\n",
    "        return 20\n",
    "    elif 30<=age<40:\n",
    "        return 30\n",
    "    elif 40<=age<50:\n",
    "        return 40\n",
    "    elif 50<=age<60:\n",
    "        return 50\n",
    "    elif 60<=age<70:\n",
    "        return 60\n",
    "    else:\n",
    "        return 70"
   ],
   "id": "5c222ce5cf52ff8d",
   "outputs": [],
   "execution_count": 97
  },
  {
   "metadata": {
    "ExecuteTime": {
     "end_time": "2024-11-10T18:12:18.057500Z",
     "start_time": "2024-11-10T18:12:18.035123Z"
    }
   },
   "cell_type": "code",
   "source": "book_filter_df['ages'] = book_filter_df['age'].apply(make_ages)\n",
   "id": "5e4bb23935af805a",
   "outputs": [],
   "execution_count": 98
  },
  {
   "metadata": {
    "ExecuteTime": {
     "end_time": "2024-11-10T18:12:18.131191Z",
     "start_time": "2024-11-10T18:12:18.110033Z"
    }
   },
   "cell_type": "code",
   "source": "ages_book_=book_filter_df.groupby(['ages','book_title']).size().reset_index(name='count')",
   "id": "c3157ad7d03f7a60",
   "outputs": [],
   "execution_count": 99
  },
  {
   "metadata": {
    "ExecuteTime": {
     "end_time": "2024-11-10T18:12:18.249792Z",
     "start_time": "2024-11-10T18:12:18.220395Z"
    }
   },
   "cell_type": "code",
   "source": [
    "ages_book_df=ages_book_.pivot_table(index='ages',columns='book_title',values='count',fill_value=0)\n",
    "book_ages_df=ages_book_df.T\n",
    "book_ages_df[:100]"
   ],
   "id": "3ba5858d68532ae5",
   "outputs": [
    {
     "data": {
      "text/plain": [
       "ages                       10    20    30   40   50   60   70\n",
       "book_title                                                   \n",
       "'salem's lot              0.0   0.0   4.0  1.0  0.0  0.0  0.0\n",
       "10 lb. penalty            0.0   1.0   4.0  3.0  1.0  1.0  0.0\n",
       "101 dalmatians            0.0   2.0   0.0  1.0  0.0  0.0  0.0\n",
       "16 lighthouse road        1.0   0.0   2.0  3.0  2.0  0.0  0.0\n",
       "1984                      0.0  18.0  13.0  6.0  1.0  0.0  0.0\n",
       "...                       ...   ...   ...  ...  ...  ...  ...\n",
       "a suitable vengeance      0.0   0.0   3.0  1.0  1.0  0.0  0.0\n",
       "a superior death          0.0   0.0   3.0  1.0  3.0  0.0  0.0\n",
       "a swiftly tilting planet  1.0   3.0   5.0  0.0  0.0  0.0  0.0\n",
       "a tale of two cities      0.0   2.0   2.0  1.0  0.0  0.0  0.0\n",
       "a tangled web             0.0   1.0   0.0  0.0  0.0  0.0  0.0\n",
       "\n",
       "[100 rows x 7 columns]"
      ],
      "text/html": [
       "<div>\n",
       "<style scoped>\n",
       "    .dataframe tbody tr th:only-of-type {\n",
       "        vertical-align: middle;\n",
       "    }\n",
       "\n",
       "    .dataframe tbody tr th {\n",
       "        vertical-align: top;\n",
       "    }\n",
       "\n",
       "    .dataframe thead th {\n",
       "        text-align: right;\n",
       "    }\n",
       "</style>\n",
       "<table border=\"1\" class=\"dataframe\">\n",
       "  <thead>\n",
       "    <tr style=\"text-align: right;\">\n",
       "      <th>ages</th>\n",
       "      <th>10</th>\n",
       "      <th>20</th>\n",
       "      <th>30</th>\n",
       "      <th>40</th>\n",
       "      <th>50</th>\n",
       "      <th>60</th>\n",
       "      <th>70</th>\n",
       "    </tr>\n",
       "    <tr>\n",
       "      <th>book_title</th>\n",
       "      <th></th>\n",
       "      <th></th>\n",
       "      <th></th>\n",
       "      <th></th>\n",
       "      <th></th>\n",
       "      <th></th>\n",
       "      <th></th>\n",
       "    </tr>\n",
       "  </thead>\n",
       "  <tbody>\n",
       "    <tr>\n",
       "      <th>'salem's lot</th>\n",
       "      <td>0.0</td>\n",
       "      <td>0.0</td>\n",
       "      <td>4.0</td>\n",
       "      <td>1.0</td>\n",
       "      <td>0.0</td>\n",
       "      <td>0.0</td>\n",
       "      <td>0.0</td>\n",
       "    </tr>\n",
       "    <tr>\n",
       "      <th>10 lb. penalty</th>\n",
       "      <td>0.0</td>\n",
       "      <td>1.0</td>\n",
       "      <td>4.0</td>\n",
       "      <td>3.0</td>\n",
       "      <td>1.0</td>\n",
       "      <td>1.0</td>\n",
       "      <td>0.0</td>\n",
       "    </tr>\n",
       "    <tr>\n",
       "      <th>101 dalmatians</th>\n",
       "      <td>0.0</td>\n",
       "      <td>2.0</td>\n",
       "      <td>0.0</td>\n",
       "      <td>1.0</td>\n",
       "      <td>0.0</td>\n",
       "      <td>0.0</td>\n",
       "      <td>0.0</td>\n",
       "    </tr>\n",
       "    <tr>\n",
       "      <th>16 lighthouse road</th>\n",
       "      <td>1.0</td>\n",
       "      <td>0.0</td>\n",
       "      <td>2.0</td>\n",
       "      <td>3.0</td>\n",
       "      <td>2.0</td>\n",
       "      <td>0.0</td>\n",
       "      <td>0.0</td>\n",
       "    </tr>\n",
       "    <tr>\n",
       "      <th>1984</th>\n",
       "      <td>0.0</td>\n",
       "      <td>18.0</td>\n",
       "      <td>13.0</td>\n",
       "      <td>6.0</td>\n",
       "      <td>1.0</td>\n",
       "      <td>0.0</td>\n",
       "      <td>0.0</td>\n",
       "    </tr>\n",
       "    <tr>\n",
       "      <th>...</th>\n",
       "      <td>...</td>\n",
       "      <td>...</td>\n",
       "      <td>...</td>\n",
       "      <td>...</td>\n",
       "      <td>...</td>\n",
       "      <td>...</td>\n",
       "      <td>...</td>\n",
       "    </tr>\n",
       "    <tr>\n",
       "      <th>a suitable vengeance</th>\n",
       "      <td>0.0</td>\n",
       "      <td>0.0</td>\n",
       "      <td>3.0</td>\n",
       "      <td>1.0</td>\n",
       "      <td>1.0</td>\n",
       "      <td>0.0</td>\n",
       "      <td>0.0</td>\n",
       "    </tr>\n",
       "    <tr>\n",
       "      <th>a superior death</th>\n",
       "      <td>0.0</td>\n",
       "      <td>0.0</td>\n",
       "      <td>3.0</td>\n",
       "      <td>1.0</td>\n",
       "      <td>3.0</td>\n",
       "      <td>0.0</td>\n",
       "      <td>0.0</td>\n",
       "    </tr>\n",
       "    <tr>\n",
       "      <th>a swiftly tilting planet</th>\n",
       "      <td>1.0</td>\n",
       "      <td>3.0</td>\n",
       "      <td>5.0</td>\n",
       "      <td>0.0</td>\n",
       "      <td>0.0</td>\n",
       "      <td>0.0</td>\n",
       "      <td>0.0</td>\n",
       "    </tr>\n",
       "    <tr>\n",
       "      <th>a tale of two cities</th>\n",
       "      <td>0.0</td>\n",
       "      <td>2.0</td>\n",
       "      <td>2.0</td>\n",
       "      <td>1.0</td>\n",
       "      <td>0.0</td>\n",
       "      <td>0.0</td>\n",
       "      <td>0.0</td>\n",
       "    </tr>\n",
       "    <tr>\n",
       "      <th>a tangled web</th>\n",
       "      <td>0.0</td>\n",
       "      <td>1.0</td>\n",
       "      <td>0.0</td>\n",
       "      <td>0.0</td>\n",
       "      <td>0.0</td>\n",
       "      <td>0.0</td>\n",
       "      <td>0.0</td>\n",
       "    </tr>\n",
       "  </tbody>\n",
       "</table>\n",
       "<p>100 rows × 7 columns</p>\n",
       "</div>"
      ]
     },
     "execution_count": 100,
     "metadata": {},
     "output_type": "execute_result"
    }
   ],
   "execution_count": 100
  },
  {
   "metadata": {
    "ExecuteTime": {
     "end_time": "2024-11-10T18:12:30.665972Z",
     "start_time": "2024-11-10T18:12:18.390065Z"
    }
   },
   "cell_type": "code",
   "source": [
    "from sklearn.metrics.pairwise import cosine_similarity\n",
    "ages_similarity=cosine_similarity(book_ages_df,book_ages_df)\n",
    "ages_similarity_df=pd.DataFrame(ages_similarity,index=ages_book_df.columns, columns=ages_book_df.columns)\n",
    "ages_similarity_df.to_csv(\"age_similarity_df.csv\",index=True)"
   ],
   "id": "6987c525daaeae04",
   "outputs": [],
   "execution_count": 101
  },
  {
   "metadata": {
    "ExecuteTime": {
     "end_time": "2024-11-10T18:12:32.722979Z",
     "start_time": "2024-11-10T18:12:30.698617Z"
    }
   },
   "cell_type": "code",
   "source": [
    "ages_similarity_df=pd.read_csv(\"csv/age_similarity_df.csv\", index_col='book_title')\n",
    "\n"
   ],
   "id": "60d98551aae4ebd3",
   "outputs": [],
   "execution_count": 102
  },
  {
   "metadata": {
    "ExecuteTime": {
     "end_time": "2024-11-10T18:12:32.743584Z",
     "start_time": "2024-11-10T18:12:32.737495Z"
    }
   },
   "cell_type": "code",
   "source": "ages_similarity_df.index",
   "id": "d275a063e545f456",
   "outputs": [
    {
     "data": {
      "text/plain": [
       "Index([''salem's lot', '10 lb. penalty', '101 dalmatians',\n",
       "       '16 lighthouse road', '1984', '1st to die: a novel',\n",
       "       '2010: odyssey two', '24 hours', '4 blondes', '84 charing cross road',\n",
       "       ...\n",
       "       'you just don't understand', 'you shall know our velocity',\n",
       "       'you'll never eat lunch in this town again',\n",
       "       'your money or your life: transforming your relationship with money and achieving financial independence',\n",
       "       'your oasis on flame lake (ballantine reader's circle)',\n",
       "       'zen and the art of motorcycle maintenance: an inquiry into values',\n",
       "       'zia', 'zlata's diary: a child's life in sarajevo',\n",
       "       'zodiac: the eco-thriller', 'zoya'],\n",
       "      dtype='object', name='book_title', length=3374)"
      ]
     },
     "execution_count": 103,
     "metadata": {},
     "output_type": "execute_result"
    }
   ],
   "execution_count": 103
  },
  {
   "metadata": {},
   "cell_type": "markdown",
   "source": "#### user별 안 읽은 책 추천",
   "id": "6d848eef72b55f9b"
  },
  {
   "metadata": {
    "ExecuteTime": {
     "end_time": "2024-11-10T18:12:32.874348Z",
     "start_time": "2024-11-10T18:12:32.869484Z"
    }
   },
   "cell_type": "code",
   "source": [
    "def get_unseen_books(user_idx):\n",
    "    user_read_df=user_book_df.loc[user_idx,:]\n",
    "    return user_read_df[user_read_df==0].index"
   ],
   "id": "66c8d6674c448d8b",
   "outputs": [],
   "execution_count": 104
  },
  {
   "metadata": {
    "ExecuteTime": {
     "end_time": "2024-11-10T18:12:32.904446Z",
     "start_time": "2024-11-10T18:12:32.891815Z"
    }
   },
   "cell_type": "code",
   "source": [
    "def user_fav_book(user_idx):\n",
    "    user_ages=pd.DataFrame(book_filter_df[book_filter_df['user_id']==user_idx])\n",
    "    user_ages.sort_values(by='rating',ascending=False,inplace=True)\n",
    "    user_ages.value_counts()\n",
    "    user_favorite_book=user_ages.iloc[0]['book_title']\n",
    "    print(user_favorite_book)\n",
    "    return user_favorite_book\n",
    "user_fav_book(254)"
   ],
   "id": "58bb8ecb66d11050",
   "outputs": [
    {
     "name": "stdout",
     "output_type": "stream",
     "text": [
      "american gods\n"
     ]
    },
    {
     "data": {
      "text/plain": [
       "'american gods'"
      ]
     },
     "execution_count": 105,
     "metadata": {},
     "output_type": "execute_result"
    }
   ],
   "execution_count": 105
  },
  {
   "metadata": {
    "ExecuteTime": {
     "end_time": "2024-11-10T18:12:32.988097Z",
     "start_time": "2024-11-10T18:12:32.975392Z"
    }
   },
   "cell_type": "code",
   "source": [
    "def user_fav_book(user_idx):\n",
    "    user_ages=pd.DataFrame(book_filter_df[book_filter_df['user_id']==user_idx])\n",
    "    user_ages.sort_values(by='rating',ascending=False,inplace=True)\n",
    "    l_category=user_ages[:20][\"L_Category\"].value_counts().idxmax()\n",
    "    i=0\n",
    "    while True:\n",
    "        if user_ages.iloc[i][\"L_Category\"]==l_category:\n",
    "            favorite_book=user_ages.iloc[i]['book_title']\n",
    "            break\n",
    "    return l_category, favorite_book\n",
    "\n",
    "user_fav_book(254)"
   ],
   "id": "3c8e07afd48a1e2d",
   "outputs": [
    {
     "data": {
      "text/plain": [
       "('fiction', 'american gods')"
      ]
     },
     "execution_count": 106,
     "metadata": {},
     "output_type": "execute_result"
    }
   ],
   "execution_count": 106
  },
  {
   "metadata": {
    "ExecuteTime": {
     "end_time": "2024-11-10T18:12:33.056544Z",
     "start_time": "2024-11-10T18:12:33.050543Z"
    }
   },
   "cell_type": "code",
   "source": [
    "def match_L_Category(title):\n",
    "    title_L_Category=book_filter_df[[\"book_title\",\"L_Category\"]].drop_duplicates()\n",
    "    L_Category=title_L_Category[title_L_Category['book_title']==title][\"L_Category\"].iloc[0]\n",
    "    return L_Category\n",
    "def match_image_link(title):\n",
    "    title_image=book_filter_df[[\"book_title\",\"img_m\"]].drop_duplicates()\n",
    "    image=title_image[title_image['book_title']==title][\"img_m\"].iloc[0]\n",
    "    return image\n",
    "def match_author(title):\n",
    "    title_author=book_filter_df[[\"book_title\",\"book_author\"]].drop_duplicates()\n",
    "    author=title_author[title_author['book_title']==title][\"book_author\"].iloc[0]\n",
    "    return author"
   ],
   "id": "6db8f96df1ba738",
   "outputs": [],
   "execution_count": 107
  },
  {
   "metadata": {
    "ExecuteTime": {
     "end_time": "2024-11-10T18:12:33.123984Z",
     "start_time": "2024-11-10T18:12:33.119078Z"
    }
   },
   "cell_type": "code",
   "source": [
    "def match_imglink_author(title):\n",
    "    temp_df=book_filter_df[[\"book_title\",\"book_author\",\"img_m\",\"L_Category\"]].drop_duplicates()\n",
    "    L_Category=temp_df[temp_df['book_title']==title][\"L_Category\"].iloc[0]\n",
    "    image=temp_df[temp_df['book_title']==title][\"img_m\"].iloc[0]\n",
    "    author=temp_df[temp_df[\"book_title\"]==title][\"book_author\"].iloc[0]\n",
    "    return L_Category,image,author"
   ],
   "id": "996103113e5d34ff",
   "outputs": [],
   "execution_count": 108
  },
  {
   "metadata": {
    "ExecuteTime": {
     "end_time": "2024-11-10T18:12:33.201673Z",
     "start_time": "2024-11-10T18:12:33.194638Z"
    }
   },
   "cell_type": "code",
   "source": "ages_similarity_df.loc[\"american gods\"]",
   "id": "89a18753eca8e041",
   "outputs": [
    {
     "data": {
      "text/plain": [
       "'salem's lot                                                         0.735545\n",
       "10 lb. penalty                                                       0.720847\n",
       "101 dalmatians                                                       0.601237\n",
       "16 lighthouse road                                                   0.412681\n",
       "1984                                                                 0.947937\n",
       "                                                                       ...   \n",
       "zen and the art of motorcycle maintenance: an inquiry into values    0.959974\n",
       "zia                                                                  0.031265\n",
       "zlata's diary: a child's life in sarajevo                            0.750366\n",
       "zodiac: the eco-thriller                                             0.887204\n",
       "zoya                                                                 0.799390\n",
       "Name: american gods, Length: 3374, dtype: float64"
      ]
     },
     "execution_count": 109,
     "metadata": {},
     "output_type": "execute_result"
    }
   ],
   "execution_count": 109
  },
  {
   "metadata": {
    "ExecuteTime": {
     "end_time": "2024-11-10T18:12:36.956594Z",
     "start_time": "2024-11-10T18:12:33.292700Z"
    }
   },
   "cell_type": "code",
   "source": [
    "def predict_books(user_idx):\n",
    "    unseen_idx=get_unseen_books(user_idx)\n",
    "    l_cate,fav_idx=user_fav_book(user_idx)\n",
    "    print(fav_idx)\n",
    "    temp=ages_similarity_df.loc[fav_idx][unseen_idx].sort_values(ascending=False)\n",
    "    temp=pd.DataFrame(temp).reset_index()   \n",
    "    temp[\"L_Category\"] = temp[\"book_title\"][:300].apply(match_L_Category)\n",
    "    predict_same_L_category=temp[temp[\"L_Category\"]==l_cate][:5]\n",
    "    predict_dif_L_category=temp[temp[\"L_Category\"]!=l_cate][:5]\n",
    "    return predict_same_L_category,predict_dif_L_category\n",
    "#---------------------------------------------------------------------#\n",
    "def book_link_image(user_idx):\n",
    "    same,dif=predict_books(user_idx)\n",
    "    same[\"image_link\"]=same[\"book_title\"].apply(match_image_link)\n",
    "    dif[\"image_link\"]=dif[\"book_title\"].apply(match_image_link)\n",
    "    same[\"book_author\"]=same[\"book_title\"].apply(match_author)\n",
    "    dif[\"book_author\"]=dif[\"book_title\"].apply(match_author)\n",
    "    return same,dif\n",
    "#---------------------------------------------------------------------#\n",
    "# test-code\n",
    "same,dif=book_link_image(254)\n",
    "display(same)\n",
    "display(dif)"
   ],
   "id": "9f43af482445b4f0",
   "outputs": [
    {
     "name": "stdout",
     "output_type": "stream",
     "text": [
      "american gods\n"
     ]
    },
    {
     "data": {
      "text/plain": [
       "                                          book_title  american gods  \\\n",
       "0  the queen of the damned (vampire chronicles (p...       0.997896   \n",
       "1  sophie's world: a novel about the history of p...       0.997096   \n",
       "2                              hidden jewel (landry)       0.997011   \n",
       "3                  if there be thorns (dollanganger)       0.996774   \n",
       "4                                      ruby (landry)       0.996200   \n",
       "\n",
       "  L_Category                                         image_link  \\\n",
       "0    fiction  http://images.amazon.com/images/P/0345351525.0...   \n",
       "1    fiction  http://images.amazon.com/images/P/0425152251.0...   \n",
       "2    fiction  http://images.amazon.com/images/P/0671873202.0...   \n",
       "3    fiction  http://images.amazon.com/images/P/0671729454.0...   \n",
       "4    fiction  http://images.amazon.com/images/P/0671759345.0...   \n",
       "\n",
       "      book_author  \n",
       "0        annerice  \n",
       "1  josteingaarder  \n",
       "2       vcandrews  \n",
       "3       vcandrews  \n",
       "4       vcandrews  "
      ],
      "text/html": [
       "<div>\n",
       "<style scoped>\n",
       "    .dataframe tbody tr th:only-of-type {\n",
       "        vertical-align: middle;\n",
       "    }\n",
       "\n",
       "    .dataframe tbody tr th {\n",
       "        vertical-align: top;\n",
       "    }\n",
       "\n",
       "    .dataframe thead th {\n",
       "        text-align: right;\n",
       "    }\n",
       "</style>\n",
       "<table border=\"1\" class=\"dataframe\">\n",
       "  <thead>\n",
       "    <tr style=\"text-align: right;\">\n",
       "      <th></th>\n",
       "      <th>book_title</th>\n",
       "      <th>american gods</th>\n",
       "      <th>L_Category</th>\n",
       "      <th>image_link</th>\n",
       "      <th>book_author</th>\n",
       "    </tr>\n",
       "  </thead>\n",
       "  <tbody>\n",
       "    <tr>\n",
       "      <th>0</th>\n",
       "      <td>the queen of the damned (vampire chronicles (p...</td>\n",
       "      <td>0.997896</td>\n",
       "      <td>fiction</td>\n",
       "      <td>http://images.amazon.com/images/P/0345351525.0...</td>\n",
       "      <td>annerice</td>\n",
       "    </tr>\n",
       "    <tr>\n",
       "      <th>1</th>\n",
       "      <td>sophie's world: a novel about the history of p...</td>\n",
       "      <td>0.997096</td>\n",
       "      <td>fiction</td>\n",
       "      <td>http://images.amazon.com/images/P/0425152251.0...</td>\n",
       "      <td>josteingaarder</td>\n",
       "    </tr>\n",
       "    <tr>\n",
       "      <th>2</th>\n",
       "      <td>hidden jewel (landry)</td>\n",
       "      <td>0.997011</td>\n",
       "      <td>fiction</td>\n",
       "      <td>http://images.amazon.com/images/P/0671873202.0...</td>\n",
       "      <td>vcandrews</td>\n",
       "    </tr>\n",
       "    <tr>\n",
       "      <th>3</th>\n",
       "      <td>if there be thorns (dollanganger)</td>\n",
       "      <td>0.996774</td>\n",
       "      <td>fiction</td>\n",
       "      <td>http://images.amazon.com/images/P/0671729454.0...</td>\n",
       "      <td>vcandrews</td>\n",
       "    </tr>\n",
       "    <tr>\n",
       "      <th>4</th>\n",
       "      <td>ruby (landry)</td>\n",
       "      <td>0.996200</td>\n",
       "      <td>fiction</td>\n",
       "      <td>http://images.amazon.com/images/P/0671759345.0...</td>\n",
       "      <td>vcandrews</td>\n",
       "    </tr>\n",
       "  </tbody>\n",
       "</table>\n",
       "</div>"
      ]
     },
     "metadata": {},
     "output_type": "display_data"
    },
    {
     "data": {
      "text/plain": [
       "                                           book_title  american gods  \\\n",
       "5                                   when rabbit howls       0.996094   \n",
       "7                                         naked lunch       0.996094   \n",
       "16  living wicca: a further guide for the solitary...       0.994855   \n",
       "22                      the prince (penguin classics)       0.994855   \n",
       "23                                           babyhood       0.994855   \n",
       "\n",
       "   L_Category                                         image_link  \\\n",
       "5    sci&tech  http://images.amazon.com/images/P/0515103292.0...   \n",
       "7    sci&tech  http://images.amazon.com/images/P/0802132952.0...   \n",
       "16         sf  http://images.amazon.com/images/P/0875421849.0...   \n",
       "22    culture  http://images.amazon.com/images/P/0140449159.0...   \n",
       "23   sci&tech  http://images.amazon.com/images/P/0380728729.0...   \n",
       "\n",
       "           book_author  \n",
       "5          truddichase  \n",
       "7    williamsburroughs  \n",
       "16     scottcunningham  \n",
       "22  niccolomachiavelli  \n",
       "23          paulreiser  "
      ],
      "text/html": [
       "<div>\n",
       "<style scoped>\n",
       "    .dataframe tbody tr th:only-of-type {\n",
       "        vertical-align: middle;\n",
       "    }\n",
       "\n",
       "    .dataframe tbody tr th {\n",
       "        vertical-align: top;\n",
       "    }\n",
       "\n",
       "    .dataframe thead th {\n",
       "        text-align: right;\n",
       "    }\n",
       "</style>\n",
       "<table border=\"1\" class=\"dataframe\">\n",
       "  <thead>\n",
       "    <tr style=\"text-align: right;\">\n",
       "      <th></th>\n",
       "      <th>book_title</th>\n",
       "      <th>american gods</th>\n",
       "      <th>L_Category</th>\n",
       "      <th>image_link</th>\n",
       "      <th>book_author</th>\n",
       "    </tr>\n",
       "  </thead>\n",
       "  <tbody>\n",
       "    <tr>\n",
       "      <th>5</th>\n",
       "      <td>when rabbit howls</td>\n",
       "      <td>0.996094</td>\n",
       "      <td>sci&amp;tech</td>\n",
       "      <td>http://images.amazon.com/images/P/0515103292.0...</td>\n",
       "      <td>truddichase</td>\n",
       "    </tr>\n",
       "    <tr>\n",
       "      <th>7</th>\n",
       "      <td>naked lunch</td>\n",
       "      <td>0.996094</td>\n",
       "      <td>sci&amp;tech</td>\n",
       "      <td>http://images.amazon.com/images/P/0802132952.0...</td>\n",
       "      <td>williamsburroughs</td>\n",
       "    </tr>\n",
       "    <tr>\n",
       "      <th>16</th>\n",
       "      <td>living wicca: a further guide for the solitary...</td>\n",
       "      <td>0.994855</td>\n",
       "      <td>sf</td>\n",
       "      <td>http://images.amazon.com/images/P/0875421849.0...</td>\n",
       "      <td>scottcunningham</td>\n",
       "    </tr>\n",
       "    <tr>\n",
       "      <th>22</th>\n",
       "      <td>the prince (penguin classics)</td>\n",
       "      <td>0.994855</td>\n",
       "      <td>culture</td>\n",
       "      <td>http://images.amazon.com/images/P/0140449159.0...</td>\n",
       "      <td>niccolomachiavelli</td>\n",
       "    </tr>\n",
       "    <tr>\n",
       "      <th>23</th>\n",
       "      <td>babyhood</td>\n",
       "      <td>0.994855</td>\n",
       "      <td>sci&amp;tech</td>\n",
       "      <td>http://images.amazon.com/images/P/0380728729.0...</td>\n",
       "      <td>paulreiser</td>\n",
       "    </tr>\n",
       "  </tbody>\n",
       "</table>\n",
       "</div>"
      ]
     },
     "metadata": {},
     "output_type": "display_data"
    }
   ],
   "execution_count": 110
  },
  {
   "metadata": {},
   "cell_type": "markdown",
   "source": "#### 작가별 평점유사도",
   "id": "9157df0d64b798a2"
  },
  {
   "metadata": {
    "ExecuteTime": {
     "end_time": "2024-11-10T18:12:37.033298Z",
     "start_time": "2024-11-10T18:12:37.005622Z"
    }
   },
   "cell_type": "code",
   "source": [
    "# user별 작가 평점으로 평균내기\n",
    "bm_df = book_filter_df.groupby(['user_id', 'book_author'])['rating'].mean().reset_index()\n",
    "print(bm_df.shape)\n",
    "bm_df=bm_df.rename(columns={'rating':'author_mean_rating'})\n",
    "bm_df"
   ],
   "id": "c6dfc1fd53bda956",
   "outputs": [
    {
     "name": "stdout",
     "output_type": "stream",
     "text": [
      "(29020, 3)\n"
     ]
    },
    {
     "data": {
      "text/plain": [
       "       user_id       book_author  author_mean_rating\n",
       "0          243      arthurgolden                10.0\n",
       "1          243      arundhatiroy                 7.0\n",
       "2          243        belvaplain                 6.0\n",
       "3          243      jackcanfield                 5.0\n",
       "4          243      janehamilton                 7.0\n",
       "...        ...               ...                 ...\n",
       "29015   278633  richardpaulevans                10.0\n",
       "29016   278633     sidneysheldon                 9.0\n",
       "29017   278633       stephenking                 5.0\n",
       "29018   278633       sylviaplath                 8.0\n",
       "29019   278633         vcandrews                 5.0\n",
       "\n",
       "[29020 rows x 3 columns]"
      ],
      "text/html": [
       "<div>\n",
       "<style scoped>\n",
       "    .dataframe tbody tr th:only-of-type {\n",
       "        vertical-align: middle;\n",
       "    }\n",
       "\n",
       "    .dataframe tbody tr th {\n",
       "        vertical-align: top;\n",
       "    }\n",
       "\n",
       "    .dataframe thead th {\n",
       "        text-align: right;\n",
       "    }\n",
       "</style>\n",
       "<table border=\"1\" class=\"dataframe\">\n",
       "  <thead>\n",
       "    <tr style=\"text-align: right;\">\n",
       "      <th></th>\n",
       "      <th>user_id</th>\n",
       "      <th>book_author</th>\n",
       "      <th>author_mean_rating</th>\n",
       "    </tr>\n",
       "  </thead>\n",
       "  <tbody>\n",
       "    <tr>\n",
       "      <th>0</th>\n",
       "      <td>243</td>\n",
       "      <td>arthurgolden</td>\n",
       "      <td>10.0</td>\n",
       "    </tr>\n",
       "    <tr>\n",
       "      <th>1</th>\n",
       "      <td>243</td>\n",
       "      <td>arundhatiroy</td>\n",
       "      <td>7.0</td>\n",
       "    </tr>\n",
       "    <tr>\n",
       "      <th>2</th>\n",
       "      <td>243</td>\n",
       "      <td>belvaplain</td>\n",
       "      <td>6.0</td>\n",
       "    </tr>\n",
       "    <tr>\n",
       "      <th>3</th>\n",
       "      <td>243</td>\n",
       "      <td>jackcanfield</td>\n",
       "      <td>5.0</td>\n",
       "    </tr>\n",
       "    <tr>\n",
       "      <th>4</th>\n",
       "      <td>243</td>\n",
       "      <td>janehamilton</td>\n",
       "      <td>7.0</td>\n",
       "    </tr>\n",
       "    <tr>\n",
       "      <th>...</th>\n",
       "      <td>...</td>\n",
       "      <td>...</td>\n",
       "      <td>...</td>\n",
       "    </tr>\n",
       "    <tr>\n",
       "      <th>29015</th>\n",
       "      <td>278633</td>\n",
       "      <td>richardpaulevans</td>\n",
       "      <td>10.0</td>\n",
       "    </tr>\n",
       "    <tr>\n",
       "      <th>29016</th>\n",
       "      <td>278633</td>\n",
       "      <td>sidneysheldon</td>\n",
       "      <td>9.0</td>\n",
       "    </tr>\n",
       "    <tr>\n",
       "      <th>29017</th>\n",
       "      <td>278633</td>\n",
       "      <td>stephenking</td>\n",
       "      <td>5.0</td>\n",
       "    </tr>\n",
       "    <tr>\n",
       "      <th>29018</th>\n",
       "      <td>278633</td>\n",
       "      <td>sylviaplath</td>\n",
       "      <td>8.0</td>\n",
       "    </tr>\n",
       "    <tr>\n",
       "      <th>29019</th>\n",
       "      <td>278633</td>\n",
       "      <td>vcandrews</td>\n",
       "      <td>5.0</td>\n",
       "    </tr>\n",
       "  </tbody>\n",
       "</table>\n",
       "<p>29020 rows × 3 columns</p>\n",
       "</div>"
      ]
     },
     "execution_count": 111,
     "metadata": {},
     "output_type": "execute_result"
    }
   ],
   "execution_count": 111
  },
  {
   "metadata": {
    "ExecuteTime": {
     "end_time": "2024-11-10T18:12:37.326553Z",
     "start_time": "2024-11-10T18:12:37.261315Z"
    }
   },
   "cell_type": "code",
   "source": "user_author_df=bm_df.pivot_table(index=\"user_id\",columns=\"book_author\",values=\"author_mean_rating\",fill_value=0)",
   "id": "e7efe4a2c82a785d",
   "outputs": [],
   "execution_count": 112
  }
 ],
 "metadata": {
  "kernelspec": {
   "display_name": "Python 3",
   "language": "python",
   "name": "python3"
  },
  "language_info": {
   "codemirror_mode": {
    "name": "ipython",
    "version": 2
   },
   "file_extension": ".py",
   "mimetype": "text/x-python",
   "name": "python",
   "nbconvert_exporter": "python",
   "pygments_lexer": "ipython2",
   "version": "2.7.6"
  }
 },
 "nbformat": 4,
 "nbformat_minor": 5
}
